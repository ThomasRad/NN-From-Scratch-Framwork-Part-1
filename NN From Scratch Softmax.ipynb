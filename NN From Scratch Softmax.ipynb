{
 "cells": [
  {
   "cell_type": "markdown",
   "metadata": {},
   "source": [
    "# Following Along Youtube Tutorial"
   ]
  },
  {
   "cell_type": "markdown",
   "metadata": {},
   "source": [
    "## Adding to Our NN framework, SoftMax "
   ]
  },
  {
   "cell_type": "code",
   "execution_count": 1,
   "metadata": {},
   "outputs": [],
   "source": [
    "# Importing Numpy \n",
    "\n",
    "import numpy as np\n",
    "\n",
    "# Setting random seed \n",
    "\n",
    "np.random.seed(0)"
   ]
  },
  {
   "cell_type": "code",
   "execution_count": 2,
   "metadata": {},
   "outputs": [],
   "source": [
    "# Setting up classes for the NN.\n",
    "\n",
    "class Layer_dense:\n",
    "    \n",
    "    def __init__(self, n_inputs,n_neurons):\n",
    "        \n",
    "        # intializing the weights. \n",
    "        self.weights = 0.1 * np.random.randn(n_inputs,n_neurons) \n",
    "        \n",
    "        # Initialize the biases.\n",
    "        self.biases = np.zeros((1,n_neurons))\n",
    "    \n",
    "    def forward(self,inputs):\n",
    "        \n",
    "        # Just combine the inputs with weights and biases.\n",
    "        self.output = np.dot(inputs, self.weights) + self.biases"
   ]
  },
  {
   "cell_type": "code",
   "execution_count": 3,
   "metadata": {},
   "outputs": [],
   "source": [
    "# Setting up the activation function. \n",
    "\n",
    "class Relu:\n",
    "    def forward(self, inputs):\n",
    "        self.output = np.maximum(0,inputs)"
   ]
  },
  {
   "cell_type": "code",
   "execution_count": 4,
   "metadata": {},
   "outputs": [],
   "source": [
    "# Setting up the Softmax function. \n",
    "\n",
    "class Softmax:\n",
    "    def forward(self,inputs):\n",
    "        exp_values = np.exp(inputs - np.map(inputs, axis = 1, keepdims=True))\n",
    "        prob = exp_values / np.sum(exp_values,axis=1, keepdims = True)\n",
    "        self.output = prob"
   ]
  }
 ],
 "metadata": {
  "kernelspec": {
   "display_name": "Python 3",
   "language": "python",
   "name": "python3"
  },
  "language_info": {
   "codemirror_mode": {
    "name": "ipython",
    "version": 3
   },
   "file_extension": ".py",
   "mimetype": "text/x-python",
   "name": "python",
   "nbconvert_exporter": "python",
   "pygments_lexer": "ipython3",
   "version": "3.7.6"
  }
 },
 "nbformat": 4,
 "nbformat_minor": 4
}
